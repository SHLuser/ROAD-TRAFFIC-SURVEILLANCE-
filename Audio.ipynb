{
  "nbformat": 4,
  "nbformat_minor": 0,
  "metadata": {
    "colab": {
      "provenance": []
    },
    "kernelspec": {
      "name": "python3",
      "display_name": "Python 3"
    },
    "language_info": {
      "name": "python"
    }
  },
  "cells": [
    {
      "cell_type": "code",
      "execution_count": null,
      "metadata": {
        "id": "e2uT3tXcsYx4"
      },
      "outputs": [],
      "source": [
        "import os\n",
        "import numpy as np\n",
        "import pandas as pd\n",
        "import librosa\n",
        "from sklearn.preprocessing import LabelEncoder\n",
        "from sklearn.model_selection import train_test_split\n",
        "from tensorflow.keras import layers, models\n",
        "import seaborn as sns\n",
        "import matplotlib.pyplot as plt\n",
        "from sklearn.metrics import classification_report, confusion_matrix\n",
        "from sklearn.preprocessing import StandardScaler\n",
        "from sklearn.model_selection import train_test_split\n",
        "from keras.models import Sequential\n",
        "from keras.layers import Conv2D, MaxPooling2D, Flatten, Dense\n",
        "from keras.utils import to_categorical\n",
        "from keras.callbacks import EarlyStopping\n",
        "from sklearn.metrics import classification_report, confusion_matrix"
      ]
    },
    {
      "cell_type": "code",
      "source": [
        "from google.colab import drive\n",
        "drive.mount('/content/drive')"
      ],
      "metadata": {
        "colab": {
          "base_uri": "https://localhost:8080/"
        },
        "id": "hVwXRQ2BsZqW",
        "outputId": "7fdc4e12-23fa-434f-da42-952ae9df54ba"
      },
      "execution_count": null,
      "outputs": [
        {
          "output_type": "stream",
          "name": "stdout",
          "text": [
            "Drive already mounted at /content/drive; to attempt to forcibly remount, call drive.mount(\"/content/drive\", force_remount=True).\n"
          ]
        }
      ]
    },
    {
      "cell_type": "code",
      "source": [
        "import zipfile\n",
        "# Path to the zip file\n",
        "zip_path = '/content/drive/MyDrive/Audio.zip'\n",
        "\n",
        "# Extract the zip file\n",
        "with zipfile.ZipFile(zip_path, 'r') as zip_ref:\n",
        "    zip_ref.extractall('/content/dataset')"
      ],
      "metadata": {
        "id": "Yw4mBCy2scnm"
      },
      "execution_count": null,
      "outputs": []
    },
    {
      "cell_type": "code",
      "source": [
        "import tensorflow as tf\n",
        "import numpy as np\n",
        "import librosa\n",
        "import os"
      ],
      "metadata": {
        "id": "7TeMbP0Osm4z"
      },
      "execution_count": null,
      "outputs": []
    },
    {
      "cell_type": "code",
      "source": [
        "# Set constants\n",
        "AUDIO_DIR = '/content/dataset/Audio/'\n",
        "SAMPLE_RATE = 22050\n",
        "MFCC_DIM = 13\n",
        "N_CLUSTERS = 4\n"
      ],
      "metadata": {
        "id": "okzQFfhQ0WdJ"
      },
      "execution_count": null,
      "outputs": []
    },
    {
      "cell_type": "code",
      "source": [
        "# Load audio files\n",
        "audio_files = [os.path.join(AUDIO_DIR, f) for f in os.listdir(AUDIO_DIR) if f.endswith('.wav')]"
      ],
      "metadata": {
        "id": "X4QBNbF826YA"
      },
      "execution_count": null,
      "outputs": []
    },
    {
      "cell_type": "code",
      "source": [
        "# Extract MFCC features from audio files\n",
        "mfccs = []\n",
        "max_len = 0\n",
        "for file in audio_files:\n",
        "    audio, sr = librosa.load(file, sr=SAMPLE_RATE)\n",
        "    mfcc = librosa.feature.mfcc(y=audio, sr=sr, n_mfcc=MFCC_DIM)\n",
        "    max_len = max(max_len, mfcc.shape[1])\n",
        "    mfccs.append(mfcc)"
      ],
      "metadata": {
        "id": "-1p5NpKT3fgI"
      },
      "execution_count": null,
      "outputs": []
    },
    {
      "cell_type": "code",
      "source": [
        "mfccs = []\n",
        "max_len = 0\n",
        "for file in audio_files:\n",
        "    audio, sr = librosa.load(file, sr=SAMPLE_RATE)\n",
        "    mfcc = librosa.feature.mfcc(y=audio, sr=sr, n_mfcc=MFCC_DIM)\n",
        "    max_len = max(max_len, mfcc.shape[1])\n",
        "    mfccs.append(mfcc)"
      ],
      "metadata": {
        "id": "wu86XrcL3_lX"
      },
      "execution_count": null,
      "outputs": []
    },
    {
      "cell_type": "code",
      "source": [
        "\n",
        "# Pad the MFCC arrays to a fixed length\n",
        "mfccs_padded = []\n",
        "for mfcc in mfccs:\n",
        "    pad_width = ((0, 0), (0, max_len - mfcc.shape[1]))\n",
        "    mfcc_padded = np.pad(mfcc, pad_width, mode='constant')\n",
        "    mfccs_padded.append(mfcc_padded)"
      ],
      "metadata": {
        "id": "vMDO0-yp4ko3"
      },
      "execution_count": null,
      "outputs": []
    },
    {
      "cell_type": "code",
      "source": [
        "# Convert the list of padded MFCC arrays to a 2D NumPy array\n",
        "mfccs_padded_array = np.array(mfccs_padded)"
      ],
      "metadata": {
        "id": "hChYN21s5FJM"
      },
      "execution_count": null,
      "outputs": []
    },
    {
      "cell_type": "code",
      "source": [
        "n_samples, n_mfcc, n_frames = mfccs_padded_array.shape\n",
        "mfccs_padded_array = mfccs_padded_array.reshape(n_samples, n_mfcc * n_frames)\n"
      ],
      "metadata": {
        "id": "kZPeLkpX5Ha5"
      },
      "execution_count": null,
      "outputs": []
    },
    {
      "cell_type": "code",
      "source": [
        "scaler = StandardScaler()\n",
        "mfccs_scaled = scaler.fit_transform(mfccs_padded_array)"
      ],
      "metadata": {
        "id": "zLaRFyh25J68"
      },
      "execution_count": null,
      "outputs": []
    },
    {
      "cell_type": "code",
      "source": [
        "from sklearn.cluster import KMeans\n",
        "\n",
        "kmeans = KMeans(n_clusters=N_CLUSTERS)\n",
        "labels = kmeans.fit_predict(mfccs_scaled)"
      ],
      "metadata": {
        "colab": {
          "base_uri": "https://localhost:8080/"
        },
        "id": "XNGiG1vD5Ltc",
        "outputId": "7a09122a-5d91-4fed-a405-979f584f96ff"
      },
      "execution_count": null,
      "outputs": [
        {
          "output_type": "stream",
          "name": "stderr",
          "text": [
            "/usr/local/lib/python3.10/dist-packages/sklearn/cluster/_kmeans.py:870: FutureWarning: The default value of `n_init` will change from 10 to 'auto' in 1.4. Set the value of `n_init` explicitly to suppress the warning\n",
            "  warnings.warn(\n"
          ]
        }
      ]
    },
    {
      "cell_type": "code",
      "source": [
        "# Map cluster labels to traffic conditions\n",
        "traffic_conditions = {\n",
        "    0: \"Free Flow\",\n",
        "    1: \"Light Congestion\",\n",
        "    2: \"Moderate Congestion\",\n",
        "    3: \"Heavy Congestion\"\n",
        "}"
      ],
      "metadata": {
        "id": "Ojz2INx45N2m"
      },
      "execution_count": null,
      "outputs": []
    },
    {
      "cell_type": "code",
      "source": [
        "# Print the traffic conditions and corresponding audio files\n",
        "for i, label in enumerate(labels):\n",
        "    print(f\"Traffic Condition: {traffic_conditions[label]} - Audio File: {audio_files[i]}\")"
      ],
      "metadata": {
        "colab": {
          "base_uri": "https://localhost:8080/"
        },
        "id": "Mihy8lIf5UET",
        "outputId": "2f9801c9-c1cb-46a8-b232-25387df3fffd"
      },
      "execution_count": null,
      "outputs": [
        {
          "output_type": "stream",
          "name": "stdout",
          "text": [
            "Traffic Condition: Light Congestion - Audio File: /content/dataset/Audio/00005_1.wav\n",
            "Traffic Condition: Light Congestion - Audio File: /content/dataset/Audio/00054_1.wav\n",
            "Traffic Condition: Free Flow - Audio File: /content/dataset/Audio/00050_1.wav\n",
            "Traffic Condition: Moderate Congestion - Audio File: /content/dataset/Audio/00022_1.wav\n",
            "Traffic Condition: Free Flow - Audio File: /content/dataset/Audio/00053_1.wav\n",
            "Traffic Condition: Moderate Congestion - Audio File: /content/dataset/Audio/00033_1.wav\n",
            "Traffic Condition: Moderate Congestion - Audio File: /content/dataset/Audio/00028_1.wav\n",
            "Traffic Condition: Free Flow - Audio File: /content/dataset/Audio/00044_1.wav\n",
            "Traffic Condition: Light Congestion - Audio File: /content/dataset/Audio/00055_1.wav\n",
            "Traffic Condition: Free Flow - Audio File: /content/dataset/Audio/00021_1.wav\n",
            "Traffic Condition: Moderate Congestion - Audio File: /content/dataset/Audio/00016_1.wav\n",
            "Traffic Condition: Moderate Congestion - Audio File: /content/dataset/Audio/00024_1.wav\n",
            "Traffic Condition: Heavy Congestion - Audio File: /content/dataset/Audio/00051_1.wav\n",
            "Traffic Condition: Moderate Congestion - Audio File: /content/dataset/Audio/00004_1.wav\n",
            "Traffic Condition: Free Flow - Audio File: /content/dataset/Audio/00025_1.wav\n",
            "Traffic Condition: Heavy Congestion - Audio File: /content/dataset/Audio/00056_1.wav\n",
            "Traffic Condition: Moderate Congestion - Audio File: /content/dataset/Audio/00034_1.wav\n",
            "Traffic Condition: Moderate Congestion - Audio File: /content/dataset/Audio/00026_1.wav\n",
            "Traffic Condition: Light Congestion - Audio File: /content/dataset/Audio/00002_1.wav\n",
            "Traffic Condition: Light Congestion - Audio File: /content/dataset/Audio/00014_1.wav\n",
            "Traffic Condition: Moderate Congestion - Audio File: /content/dataset/Audio/00023_1.wav\n",
            "Traffic Condition: Free Flow - Audio File: /content/dataset/Audio/00017_1.wav\n",
            "Traffic Condition: Heavy Congestion - Audio File: /content/dataset/Audio/00046_1.wav\n",
            "Traffic Condition: Moderate Congestion - Audio File: /content/dataset/Audio/00019_1.wav\n",
            "Traffic Condition: Moderate Congestion - Audio File: /content/dataset/Audio/00032_1.wav\n",
            "Traffic Condition: Light Congestion - Audio File: /content/dataset/Audio/00029_1.wav\n",
            "Traffic Condition: Free Flow - Audio File: /content/dataset/Audio/00027_1.wav\n",
            "Traffic Condition: Moderate Congestion - Audio File: /content/dataset/Audio/00036_1.wav\n",
            "Traffic Condition: Heavy Congestion - Audio File: /content/dataset/Audio/00047_1.wav\n",
            "Traffic Condition: Moderate Congestion - Audio File: /content/dataset/Audio/00039_1.wav\n",
            "Traffic Condition: Light Congestion - Audio File: /content/dataset/Audio/00030_1.wav\n",
            "Traffic Condition: Heavy Congestion - Audio File: /content/dataset/Audio/00052_1.wav\n",
            "Traffic Condition: Moderate Congestion - Audio File: /content/dataset/Audio/00015_1.wav\n",
            "Traffic Condition: Light Congestion - Audio File: /content/dataset/Audio/00038_1.wav\n",
            "Traffic Condition: Light Congestion - Audio File: /content/dataset/Audio/00057_1.wav\n",
            "Traffic Condition: Light Congestion - Audio File: /content/dataset/Audio/00009_1.wav\n",
            "Traffic Condition: Light Congestion - Audio File: /content/dataset/Audio/00003_1.wav\n",
            "Traffic Condition: Light Congestion - Audio File: /content/dataset/Audio/00006_1.wav\n",
            "Traffic Condition: Light Congestion - Audio File: /content/dataset/Audio/00040_1.wav\n",
            "Traffic Condition: Moderate Congestion - Audio File: /content/dataset/Audio/00001_1.wav\n",
            "Traffic Condition: Free Flow - Audio File: /content/dataset/Audio/00049_1.wav\n",
            "Traffic Condition: Light Congestion - Audio File: /content/dataset/Audio/00011_1.wav\n",
            "Traffic Condition: Moderate Congestion - Audio File: /content/dataset/Audio/00020_1.wav\n",
            "Traffic Condition: Light Congestion - Audio File: /content/dataset/Audio/00031_1.wav\n",
            "Traffic Condition: Light Congestion - Audio File: /content/dataset/Audio/00007_1.wav\n",
            "Traffic Condition: Light Congestion - Audio File: /content/dataset/Audio/00045_1.wav\n",
            "Traffic Condition: Light Congestion - Audio File: /content/dataset/Audio/00008_1.wav\n",
            "Traffic Condition: Light Congestion - Audio File: /content/dataset/Audio/00012_1.wav\n",
            "Traffic Condition: Free Flow - Audio File: /content/dataset/Audio/00043_1.wav\n",
            "Traffic Condition: Moderate Congestion - Audio File: /content/dataset/Audio/00013_1.wav\n",
            "Traffic Condition: Light Congestion - Audio File: /content/dataset/Audio/00041_1.wav\n",
            "Traffic Condition: Moderate Congestion - Audio File: /content/dataset/Audio/00010_1.wav\n",
            "Traffic Condition: Heavy Congestion - Audio File: /content/dataset/Audio/00048_1.wav\n",
            "Traffic Condition: Moderate Congestion - Audio File: /content/dataset/Audio/00035_1.wav\n",
            "Traffic Condition: Moderate Congestion - Audio File: /content/dataset/Audio/00042_1.wav\n",
            "Traffic Condition: Moderate Congestion - Audio File: /content/dataset/Audio/00037_1.wav\n",
            "Traffic Condition: Moderate Congestion - Audio File: /content/dataset/Audio/00018_1.wav\n"
          ]
        }
      ]
    },
    {
      "cell_type": "code",
      "source": [],
      "metadata": {
        "id": "8Nl2C3Rb51QJ"
      },
      "execution_count": null,
      "outputs": []
    }
  ]
}